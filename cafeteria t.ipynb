{
 "cells": [
  {
   "cell_type": "code",
   "execution_count": 1,
   "metadata": {},
   "outputs": [],
   "source": [
    "class persona:\n",
    "\n",
    "    list=[]\n",
    "\n",
    "\n",
    "    def __init__(self,nombre,edad,telefono):\n",
    "        self.nombre=nombre\n",
    "        self.edad=edad\n",
    "        self.telefono=telefono\n",
    "\n",
    "\n",
    "    def registrar(self):\n",
    "        persona.list.append(self)\n",
    "        print(f\"la persona{self.nombre} con la edad de {self.edad} con el telefono{self.telefono} \")\n",
    "\n",
    "\n",
    "    @classmethod\n",
    "    def personas_registradas(cls):\n",
    "        print(\"Personas registradas\")\n",
    "        for persona in cls.list:\n",
    "            print(f\"-{persona.nombre} - {persona.edad}-{telefono}\")\n",
    "    "
   ]
  },
  {
   "cell_type": "code",
   "execution_count": 106,
   "metadata": {},
   "outputs": [],
   "source": [
    "class cliente(persona):  \n",
    "    def __init__(self, nombre, edad, telefono):\n",
    "        super().__init__(nombre, edad, telefono)  \n",
    "        self.historial_pedidos = []  \n",
    "        \n",
    "\n",
    "    def realizar_pedido(self, pedido):\n",
    "        self.historial_pedidos.append(pedido)  \n",
    "        print(f\"Pedido realizado: {pedido}\")\n",
    "\n",
    "    def consultar_historial(self):\n",
    "        return self.historial_pedidos"
   ]
  },
  {
   "cell_type": "code",
   "execution_count": 46,
   "metadata": {},
   "outputs": [],
   "source": [
    "class empleado(persona):\n",
    "    def __init__(self,nombre, edad, telefono,puesto):\n",
    "        super().__init__(nombre, edad, telefono)\n",
    "        self.puesto=puesto\n",
    "\n",
    "    def actualizar_inventario(self, inventario, ingrediente, cantidad):\n",
    "        # Verifica si el empleado tiene el rol adecuado (por ejemplo, \"gerente\")\n",
    "        if self.puesto == \"gerente\":\n",
    "            inventario.actualizar_stock(ingrediente, cantidad)\n",
    "            print(f\"{self.nombre} ha actualizado el inventario. {ingrediente}: {cantidad} unidades.\")\n",
    "        else:\n",
    "            print(f\"{self.nombre} no tiene permisos para actualizar el inventario.\")"
   ]
  },
  {
   "cell_type": "code",
   "execution_count": 7,
   "metadata": {},
   "outputs": [],
   "source": [
    "class productobase:\n",
    "    def __init__(self,producto,precio):\n",
    "        self.producto=producto\n",
    "        self.precio=precio\n",
    "    "
   ]
  },
  {
   "cell_type": "code",
   "execution_count": 8,
   "metadata": {},
   "outputs": [],
   "source": [
    "class bebida(productobase):\n",
    "    def __init__(self,producto,precio,sabor,tamaño,personalizables=None):\n",
    "        super().__init__(producto,precio)\n",
    "        self.sabor=sabor\n",
    "        self.tamaño=tamaño\n",
    "        self.personalizables =personalizables if personalizables else []\n",
    "\n",
    "    def agregar_opcion(self, opcion):\n",
    "        self.personalizables.append(opcion)"
   ]
  },
  {
   "cell_type": "code",
   "execution_count": 9,
   "metadata": {},
   "outputs": [],
   "source": [
    "class postre(productobase):\n",
    "    def __init__(self,producto,precio,azucar,sinazucar):\n",
    "        super().__init__(producto,precio)\n",
    "        self.azucar=azucar\n",
    "        self.sinazucar=sinazucar"
   ]
  },
  {
   "cell_type": "code",
   "execution_count": 40,
   "metadata": {},
   "outputs": [],
   "source": [
    "class Inventario:\n",
    "    def __init__(self):\n",
    "        self.stock = {}  # Diccionario de ingredientes con su cantidad\n",
    "    \n",
    "    def agregar_ingrediente(self, ingrediente, cantidad):\n",
    "        self.stock[ingrediente]=cantidad\n",
    "        print(f\"{ingrediente} agregado al inventario. Cantidad: {cantidad}\")\n",
    "    \n",
    "    def verificar_stock(self, productos_requeridos):\n",
    "        for ingrediente in productos_requeridos:\n",
    "            if self.stock.get(ingrediente, 0) <= 0:\n",
    "                print(f\"No hay suficiente stock de {ingrediente}\")\n",
    "                return False\n",
    "        return True\n",
    "    def actualizar_stock(self, ingrediente, cantidad):\n",
    "        if ingrediente in self.stock:\n",
    "            self.stock[ingrediente] += cantidad\n",
    "        else:\n",
    "            self.stock[ingrediente] = cantidad\n",
    "        print(f\"Inventario actualizado: {ingrediente} - {self.stock[ingrediente]} unidades.\")\n",
    "    "
   ]
  },
  {
   "cell_type": "code",
   "execution_count": 105,
   "metadata": {},
   "outputs": [],
   "source": [
    "class pedido:\n",
    "    def __init__(self, cliente,productos):\n",
    "        self.cliente = cliente\n",
    "        self.productos = productos\n",
    "        self.estado = 'Pendiente'\n",
    "        self.total =self.calcular_total()\n",
    "\n",
    "    def calcular_total(self):\n",
    "        total = sum([producto.precio for producto in self.productos])\n",
    "        return total\n",
    "\n",
    "    def actualizar_estado(self, nuevo_estado):\n",
    "        self.estado = nuevo_estado\n",
    "        print(f\"Estado del pedido actualizado a: {self.estado}\")"
   ]
  },
  {
   "cell_type": "code",
   "execution_count": 97,
   "metadata": {},
   "outputs": [],
   "source": [
    "class Promocion:\n",
    "    def __init__(self, tipo, valor):\n",
    "        self.tipo = tipo  # Ejemplo: \"descuento\", \"fidelidad\"\n",
    "        self.valor = valor  # Porcentaje de descuento o cantidad fija\n",
    "\n",
    "    def aplicar_descuento(self, pedido):\n",
    "        if self.tipo == \"descuento\":\n",
    "            descuento = pedido.total * (self.valor / 100)\n",
    "            pedido.total -= descuento\n",
    "            print(f\"Descuento de {self.valor}% aplicado. Nuevo total: {pedido.total}\")\n",
    "        elif self.tipo == \"fidelidad\":\n",
    "            descuento = 50 # Ejemplo de descuento fijo por fidelidad\n",
    "            pedido.total -= descuento\n",
    "            print(f\"Descuento por fidelidad de {descuento} aplicado. Nuevo total: {pedido.total}\")"
   ]
  },
  {
   "cell_type": "code",
   "execution_count": 119,
   "metadata": {},
   "outputs": [
    {
     "name": "stdout",
     "output_type": "stream",
     "text": [
      "leche de almendra agregado al inventario. Cantidad: 10\n",
      "azúcar agregado al inventario. Cantidad: 15\n",
      "la personaJuan Pérez con la edad de 20 con el telefono123456789 \n",
      "la personajean con la edad de 30 con el telefono234567891 \n",
      "Pedido realizado: <__main__.pedido object at 0x000001C8AD743F50>\n",
      "No hay suficiente stock de café\n",
      "No se puede procesar el pedido debido a falta de stock.\n",
      "jack no tiene permisos para actualizar el inventario.\n",
      "Inventario actualizado: leche de almendra - 25 unidades.\n",
      "jay ha actualizado el inventario. leche de almendra: 15 unidades.\n",
      "Descuento por fidelidad de 50 aplicado. Nuevo total: 157.0\n"
     ]
    }
   ],
   "source": [
    "# Crear inventario y agregar ingredientes\n",
    "inventario= Inventario()\n",
    "inventario.agregar_ingrediente(\"leche de almendra\", 10)\n",
    "inventario.agregar_ingrediente(\"azúcar\", 15)\n",
    "\n",
    "# Crear productos\n",
    "bebida1 = bebida(\"Café con Leche\", 50, \"caliente\", \"mediana\", [\"chocolate\"])\n",
    "postre1 = postre(\"Brownie\", 3.50, True, False)\n",
    "\n",
    "# Crear cliente\n",
    "cliente1 =cliente(\"Juan Pérez\", \"20\", \"123456789\")\n",
    "cliente2= cliente(\"jean\",\"30\",\"234567891\")\n",
    "empleado1=empleado(\"jack\",\"56\",\"12345678\",\"cajero\")\n",
    "gerente1=empleado(\"jay\",\"30\",\"12345675\",\"gerente\")\n",
    "\n",
    "\n",
    "cliente1.registrar()\n",
    "cliente2.registrar()\n",
    "\n",
    "\n",
    "# Crear pedido y agregar productos\n",
    "pedido1 = pedido(cliente1, [bebida1,bebida1,bebida1,bebida1,postre1,postre1])\n",
    "\n",
    "cliente1.realizar_pedido(pedido1)\n",
    "\n",
    "# Verificar stock antes de aceptar el pedido\n",
    "if inventario.verificar_stock([\"leche de almendra\", \"café\"]):\n",
    "    print(f\"Pedido aceptado. Total: {pedido1.total}\")\n",
    "else:\n",
    "    print(\"No se puede procesar el pedido debido a falta de stock.\")\n",
    "\n",
    "# Empleado con rol \"barista\" intenta actualizar el inventario (no tiene permisos)\n",
    "empleado1.actualizar_inventario(inventario, \"leche de almendra\", 5)\n",
    "\n",
    "# Empleado con rol \"gerente\" actualiza el inventario correctamente\n",
    "gerente1.actualizar_inventario(inventario, \"leche de almendra\", 15)\n",
    "\n",
    "# Aplicar promoción por fidelidad\n",
    "promocion = Promocion(\"fidelidad\",0)\n",
    "promocion.aplicar_descuento(pedido1)\n"
   ]
  }
 ],
 "metadata": {
  "kernelspec": {
   "display_name": "Python 3",
   "language": "python",
   "name": "python3"
  },
  "language_info": {
   "codemirror_mode": {
    "name": "ipython",
    "version": 3
   },
   "file_extension": ".py",
   "mimetype": "text/x-python",
   "name": "python",
   "nbconvert_exporter": "python",
   "pygments_lexer": "ipython3",
   "version": "3.11.9"
  }
 },
 "nbformat": 4,
 "nbformat_minor": 2
}
