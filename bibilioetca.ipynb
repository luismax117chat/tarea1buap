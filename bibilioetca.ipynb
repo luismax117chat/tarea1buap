{
 "cells": [
  {
   "cell_type": "code",
   "execution_count": null,
   "metadata": {},
   "outputs": [],
   "source": [
    "from datetime import datetime, timedelta\n",
    "\n",
    "class Material:\n",
    "    def __init__(self, titulo, isbn, disponible=True):\n",
    "        self.titulo = titulo\n",
    "        self.isbn = isbn\n",
    "        self.disponible =disponible\n",
    "    def mos(self):\n",
    "           print(f\"el libro de {self.titulo} , con el codigo {self.isbn},y esta {self.disponible}\")"
   ]
  },
  {
   "cell_type": "code",
   "execution_count": 3,
   "metadata": {},
   "outputs": [],
   "source": [
    "class Libro(Material):\n",
    "    def __init__(self, titulo, isbn, autor, genero):\n",
    "        super().__init__(titulo, isbn)\n",
    "        self.autor = autor\n",
    "        self.genero = genero\n",
    "    def men(self):\n",
    "           print(f\"el genero es{self.genero}, del tutor {self.autor}\")"
   ]
  },
  {
   "cell_type": "code",
   "execution_count": 4,
   "metadata": {},
   "outputs": [],
   "source": [
    "class Revista(Material):\n",
    "    def __init__(self, titulo, isbn, edicion, periodicidad):\n",
    "        super().__init__(titulo, isbn)\n",
    "        self.edicion = edicion\n",
    "        self.periodicidad = periodicidad\n",
    "    def min(self):\n",
    "           print(f\"el de edicion{self.edicion}, cada {self.periodicidad}\")"
   ]
  },
  {
   "cell_type": "code",
   "execution_count": 5,
   "metadata": {},
   "outputs": [],
   "source": [
    "class MaterialDigital(Material):\n",
    "    def __init__(self, titulo, isbn, tipo_archivo, enlace_descarga):\n",
    "        super().__init__(titulo, isbn)\n",
    "        self.tipo_archivo = tipo_archivo\n",
    "        self.enlace_descarga = enlace_descarga\n",
    "    def mas(self):\n",
    "           print(f\"el tipo de archivo es{self.tipoarchivo}, y su enlace es{self.enlace}\")"
   ]
  },
  {
   "cell_type": "code",
   "execution_count": 6,
   "metadata": {},
   "outputs": [],
   "source": [
    "\n",
    "class Persona:\n",
    "    def __init__(self, nombre, identificacion):\n",
    "        self.nombre = nombre\n",
    "        self.identificacion = identificacion"
   ]
  },
  {
   "cell_type": "code",
   "execution_count": 7,
   "metadata": {},
   "outputs": [],
   "source": [
    "\n",
    "class Usuario(Persona):\n",
    "    def __init__(self, nombre, identificacion):\n",
    "        super().__init__(nombre, identificacion)\n",
    "        self.materiales_prestados = []\n",
    "\n",
    "    def consultar_catalogo(self, catalogo):\n",
    "        catalogo.mostrar_materiales()"
   ]
  },
  {
   "cell_type": "code",
   "execution_count": 8,
   "metadata": {},
   "outputs": [],
   "source": [
    "class Bibliotecario(Persona):\n",
    "    def __init__(self, nombre, identificacion):\n",
    "        super().__init__(nombre, identificacion)\n",
    "\n",
    "    def agregar_material(self, sucursal, material):\n",
    "        sucursal.agregar_material(material)\n",
    "\n",
    "    def gestionar_prestamo(self, usuario, material, sucursal):\n",
    "        if material.disponible:\n",
    "            usuario.materiales_prestados.append(material)\n",
    "            material.disponible = False\n",
    "            print(f\"Material '{material.titulo}' prestado a {usuario.nombre}\")\n",
    "        else:\n",
    "            print(f\"Material '{material.titulo}' no disponible\")\n",
    "\n",
    "    def transferir_material(self, material, sucursal_origen, sucursal_destino):\n",
    "        if material in sucursal_origen.catalogo:\n",
    "            sucursal_origen.remover_material(material)\n",
    "            sucursal_destino.agregar_material(material)\n",
    "            print(f\"Material '{material.titulo}' transferido de {sucursal_origen.nombre} a {sucursal_destino.nombre}\")\n",
    "        else:\n",
    "            print(f\"Material '{material.titulo}' no encontrado en {sucursal_origen.nombre}\")"
   ]
  },
  {
   "cell_type": "code",
   "execution_count": 9,
   "metadata": {},
   "outputs": [],
   "source": [
    "\n",
    "class Sucursal:\n",
    "    def __init__(self, nombre, direccion):\n",
    "        self.nombre = nombre\n",
    "        self.direccion = direccion\n",
    "        self.catalogo = []\n",
    "\n",
    "    def agregar_material(self, material):\n",
    "        self.catalogo.append(material)\n",
    "\n",
    "    def remover_material(self, material):\n",
    "        self.catalogo.remove(material)"
   ]
  },
  {
   "cell_type": "code",
   "execution_count": 10,
   "metadata": {},
   "outputs": [],
   "source": [
    "\n",
    "class Prestamo:\n",
    "    def __init__(self, usuario, material, fecha_prestamo, fecha_devolucion):\n",
    "        self.usuario = usuario\n",
    "        self.material = material\n",
    "        self.fecha_prestamo = fecha_prestamo\n",
    "        self.fecha_devolucion = fecha_devolucion"
   ]
  },
  {
   "cell_type": "code",
   "execution_count": 11,
   "metadata": {},
   "outputs": [],
   "source": [
    "\n",
    "\n",
    "class Penalizacion:\n",
    "    def __init__(self, usuario, monto, fecha):\n",
    "        self.usuario = usuario\n",
    "        self.monto = monto\n",
    "        self.fecha = fecha"
   ]
  },
  {
   "cell_type": "code",
   "execution_count": 27,
   "metadata": {},
   "outputs": [],
   "source": [
    "class Catalogo:\n",
    "    def __init__(self):\n",
    "        self.materiales = []\n",
    "\n",
    "    def agregar_material(self, material):\n",
    "        self.materiales.append(material)\n",
    "\n",
    "    def buscar_materiales(self, criterio, valor):\n",
    "        resultados = []\n",
    "        for material in self.materiales:\n",
    "            if criterio == \"autor\" and isinstance(material, Libro) and material.autor == valor:\n",
    "                resultados.append(material)\n",
    "            elif criterio == \"genero\" and isinstance(material, Libro) and material.genero == valor:\n",
    "                resultados.append(material)\n",
    "            elif criterio == \"tipo\" and isinstance(material, material.__class__): # Busca por tipo de material\n",
    "                resultados.append(material)\n",
    "            elif criterio == \"titulo\" and material.titulo == valor:\n",
    "                resultados.append(material)\n",
    "        return resultados\n",
    "\n",
    "    def mostrar_materiales(self):\n",
    "        for material in self.materiales:\n",
    "            print(f\"Título: {material.titulo}, ISBN: {material.isbn}\")\n",
    "\n"
   ]
  },
  {
   "cell_type": "code",
   "execution_count": 25,
   "metadata": {},
   "outputs": [
    {
     "name": "stdout",
     "output_type": "stream",
     "text": [
      "Material 'Cien años de soledad' prestado a Juan Pérez\n",
      "Material 'National Geographic' transferido de Sucursal Norte a Sucursal Centro\n",
      "\n",
      "Búsqueda por autor:\n",
      "Cien años de soledad\n",
      "\n",
      "Búsqueda por nombre:\n",
      "El chick\n"
     ]
    }
   ],
   "source": [
    "catalogo_general = Catalogo()\n",
    "\n",
    "sucursal1 = Sucursal(\"Sucursal Centro\", \"Calle 1 #1\")\n",
    "sucursal2 = Sucursal(\"Sucursal Norte\", \"Calle 2 #2\")\n",
    "\n",
    "libro1 = Libro(\"Cien años de soledad\", \"978-0307262883\", \"Gabriel García Márquez\", \"Novela\")\n",
    "revista1 = Revista(\"National Geographic\", \"1234-5678\", \"Enero 2024\", \"Mensual\")\n",
    "material_digital1 = MaterialDigital(\"El Quijote\", \"978-8424914704\", \"PDF\", \"http://example.com/quijote.pdf\")\n",
    "material_digital2 = MaterialDigital(\"El chick\", \"978-84249143333\", \"PDF\", \"http://example.com/rrrrre.pdf\")\n",
    "\n",
    "catalogo_general.agregar_material(libro1)\n",
    "catalogo_general.agregar_material(revista1)\n",
    "catalogo_general.agregar_material(material_digital1)\n",
    "catalogo_general.agregar_material(material_digital2)\n",
    "\n",
    "sucursal1.agregar_material(libro1)\n",
    "sucursal2.agregar_material(revista1)\n",
    "\n",
    "usuario1 = Usuario(\"Juan Pérez\", \"12345678\")\n",
    "bibliotecario1 = Bibliotecario(\"Ana Rodríguez\", \"87654321\")\n",
    "\n",
    "Penalizacion(usuario1,365,\"6 de marzo\")\n",
    "\n",
    "bibliotecario1.gestionar_prestamo(usuario1, libro1, sucursal1)\n",
    "bibliotecario1.transferir_material(revista1, sucursal2, sucursal1)\n",
    "\n",
    "print(\"\\nBúsqueda por autor:\")\n",
    "resultados = catalogo_general.buscar_materiales(\"autor\", \"Gabriel García Márquez\")\n",
    "for material in resultados:\n",
    "    print(material.titulo)\n",
    "\n",
    "print(\"\\nBúsqueda por nombre:\")\n",
    "resultados = catalogo_general.buscar_materiales(\"titulo\", \"El chick\")\n",
    "for material in resultados:\n",
    "    print(material.titulo)"
   ]
  }
 ],
 "metadata": {
  "kernelspec": {
   "display_name": "Python 3",
   "language": "python",
   "name": "python3"
  },
  "language_info": {
   "codemirror_mode": {
    "name": "ipython",
    "version": 3
   },
   "file_extension": ".py",
   "mimetype": "text/x-python",
   "name": "python",
   "nbconvert_exporter": "python",
   "pygments_lexer": "ipython3",
   "version": "3.11.9"
  }
 },
 "nbformat": 4,
 "nbformat_minor": 2
}
